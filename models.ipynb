{
 "cells": [
  {
   "cell_type": "code",
   "execution_count": 1,
   "metadata": {
    "scrolled": false
   },
   "outputs": [
    {
     "ename": "ModuleNotFoundError",
     "evalue": "No module named 'pandas'",
     "output_type": "error",
     "traceback": [
      "\u001b[1;31m---------------------------------------------------------------------------\u001b[0m",
      "\u001b[1;31mModuleNotFoundError\u001b[0m                       Traceback (most recent call last)",
      "Cell \u001b[1;32mIn[1], line 1\u001b[0m\n\u001b[1;32m----> 1\u001b[0m \u001b[39mimport\u001b[39;00m \u001b[39mpandas\u001b[39;00m \u001b[39mas\u001b[39;00m \u001b[39mpd\u001b[39;00m\n\u001b[0;32m      2\u001b[0m \u001b[39mfrom\u001b[39;00m \u001b[39msklearn\u001b[39;00m\u001b[39m.\u001b[39;00m\u001b[39mmodel_selection\u001b[39;00m \u001b[39mimport\u001b[39;00m train_test_split\n\u001b[0;32m      3\u001b[0m \u001b[39mfrom\u001b[39;00m \u001b[39msklearn\u001b[39;00m\u001b[39m.\u001b[39;00m\u001b[39mmetrics\u001b[39;00m \u001b[39mimport\u001b[39;00m accuracy_score, recall_score, f1_score\n",
      "\u001b[1;31mModuleNotFoundError\u001b[0m: No module named 'pandas'"
     ]
    }
   ],
   "source": [
    "import pandas as pd\n",
    "from sklearn.model_selection import train_test_split\n",
    "from sklearn.metrics import accuracy_score, recall_score, f1_score\n",
    "from catboost import CatBoostClassifier\n",
    "import lightgbm as lgb\n",
    "from sklearn.discriminant_analysis import LinearDiscriminantAnalysis\n",
    "from sklearn.svm import SVC\n",
    "import pickle\n",
    "\n",
    "# Charger les données normalisées\n",
    "data = pd.read_csv('./csv/Normalized_CRC.csv')\n",
    "\n",
    "# Diviser les données en features (X) et labels (y)\n",
    "X = data.iloc[:, :-1]\n",
    "y = data.iloc[:, -1]\n",
    "\n",
    "# Diviser les données en ensembles d'entraînement et de test\n",
    "X_train, X_test, y_train, y_test = train_test_split(X, y, test_size=0.2, random_state=42)\n",
    "\n",
    "# CatBoost\n",
    "catboost_model = CatBoostClassifier(iterations=1000, learning_rate=0.1, depth=6, loss_function='MultiClass', verbose=100)\n",
    "catboost_model.fit(X_train, y_train)\n",
    "catboost_predictions = catboost_model.predict(X_test)\n",
    "\n",
    "# LightGBM\n",
    "lgb_model = lgb.LGBMClassifier(boosting_type='gbdt', num_leaves=31, learning_rate=0.05, n_estimators=1000, metric='multi_logloss',verbose=-1)\n",
    "lgb_model.fit(X_train, y_train)\n",
    "lgb_predictions = lgb_model.predict(X_test)\n",
    "\n",
    "# Linear Discriminant Analysis (LDA)\n",
    "lda_model = LinearDiscriminantAnalysis()\n",
    "lda_model.fit(X_train, y_train)\n",
    "lda_predictions = lda_model.predict(X_test)\n",
    "\n",
    "# Support Vector Machine (SVM)\n",
    "svm_model = SVC(kernel='linear', C=1.0)\n",
    "svm_model.fit(X_train, y_train)\n",
    "svm_predictions = svm_model.predict(X_test)\n",
    "\n",
    "# Sauvegarder les modèles avec pickle\n",
    "with open('catboost_model_CRC.pkl', 'wb') as f:\n",
    "    pickle.dump(catboost_model, f)\n",
    "\n",
    "with open('lgb_model_CRC.pkl', 'wb') as f:\n",
    "    pickle.dump(lgb_model, f)\n",
    "\n",
    "with open('lda_model_CRC.pkl', 'wb') as f:\n",
    "    pickle.dump(lda_model, f)\n",
    "\n",
    "with open('svm_model_CRC.pkl', 'wb') as f:\n",
    "    pickle.dump(svm_model, f)\n",
    "\n",
    "# Évaluation des performances\n",
    "def evaluate_performance(y_true, y_pred, model_name):\n",
    "    accuracy = accuracy_score(y_true, y_pred)\n",
    "    recall = recall_score(y_true, y_pred, average='weighted')\n",
    "    f1 = f1_score(y_true, y_pred, average='weighted')\n",
    "    print(f\"{model_name} - Accuracy: {accuracy * 100:.4f}%, Recall: {recall * 100:.4f}%, F1-Score: {f1 * 100:.4f}%\")\n",
    "\n",
    "evaluate_performance(y_test, catboost_predictions, \"CatBoost\")\n",
    "evaluate_performance(y_test, lgb_predictions, \"LightGBM\")\n",
    "evaluate_performance(y_test, lda_predictions, \"LDA\")\n",
    "evaluate_performance(y_test, svm_predictions, \"SVM\")\n"
   ]
  },
  {
   "cell_type": "code",
   "execution_count": null,
   "metadata": {},
   "outputs": [],
   "source": []
  }
 ],
 "metadata": {
  "kernelspec": {
   "display_name": "Python 3 (ipykernel)",
   "language": "python",
   "name": "python3"
  },
  "language_info": {
   "codemirror_mode": {
    "name": "ipython",
    "version": 3
   },
   "file_extension": ".py",
   "mimetype": "text/x-python",
   "name": "python",
   "nbconvert_exporter": "python",
   "pygments_lexer": "ipython3",
   "version": "3.10.9"
  }
 },
 "nbformat": 4,
 "nbformat_minor": 2
}
